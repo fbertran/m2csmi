{
  "nbformat": 4,
  "nbformat_minor": 0,
  "metadata": {
    "colab": {
      "name": "Untitled2.ipynb",
      "version": "0.3.2",
      "provenance": [],
      "include_colab_link": true
    },
    "kernelspec": {
      "name": "python3",
      "display_name": "Python 3"
    }
  },
  "cells": [
    {
      "cell_type": "markdown",
      "metadata": {
        "id": "view-in-github",
        "colab_type": "text"
      },
      "source": [
        "<a href=\"https://colab.research.google.com/github/fbertran/m2csmi/blob/master/Digue.ipynb\" target=\"_parent\"><img src=\"https://colab.research.google.com/assets/colab-badge.svg\" alt=\"Open In Colab\"/></a>"
      ]
    },
    {
      "metadata": {
        "id": "XODlkQbl2Cm2",
        "colab_type": "code",
        "colab": {}
      },
      "cell_type": "code",
      "source": [
        ""
      ],
      "execution_count": 0,
      "outputs": []
    },
    {
      "metadata": {
        "id": "kUegrL6x1tgu",
        "colab_type": "code",
        "colab": {}
      },
      "cell_type": "code",
      "source": [
        "from openturns import *\n",
        "import openturns as ot\n",
        "import random\n",
        "import math\n",
        "from math import sqrt\n",
        "\n",
        "#When the river height exceeds that of the dyke, flooding occurs.\n",
        "\n",
        "####################\n",
        "# Flooding function\n",
        "####################\n",
        "\n",
        "# Create here the python lines to define the implementation of the function\n",
        "\n",
        "# In order to be able to use that function with the openturns library,\n",
        "# it is necessary to define a class which derives from OpenTURNSPythonFunction\n",
        "\n",
        "class modelePYTHON(OpenTURNSPythonFunction) :\n",
        "# that following method defines the input size (4) and the output size (1)\n",
        "\tdef __init__(self) :\n",
        "\t\tOpenTURNSPythonFunction.__init__(self,8,1)\n",
        "\n",
        "# that following method gives the implementation of modelePYTHON\n",
        "\tdef _exec(self,x) :\n",
        "\t\tQ=x[0]\n",
        "\t\tif Q<500.:\n",
        "\t\t\tQ=500.\n",
        "\t\telif Q>3000.:\n",
        "\t\t\tQ=3000.\n",
        "\t\tKs=x[1]\n",
        "\t\tif Ks<15.:\n",
        "\t\t\tKs=15.\n",
        "\t\tZv=x[2]\n",
        "\t\tZm=x[3]\n",
        "\t\tHd=x[4]\n",
        "\t\tCb=x[5]\n",
        "\t\tL=x[6]\n",
        "\t\tB=x[7]\n",
        "\t\tH = (Q/(B*Ks*sqrt((Zm-Zv)/L)))**0.6\n",
        "\t\tS = Zv + H - Hd -Cb\n",
        "\t\treturn [S]\n",
        "\n",
        "# Use that function defined in the script python\n",
        "# with the openturns library\n",
        "# Create a NumericalMathFunction from modelePYTHON\n",
        "flooding = NumericalMathFunction(modelePYTHON())\n",
        "\n",
        "\n",
        "\n",
        "\n",
        "\n",
        "\n",
        "\n",
        "\n",
        "\n",
        "\n",
        "\n",
        "\n",
        "\n",
        "\n",
        "\n",
        "\n",
        "\n",
        "\n",
        "\n",
        "\n",
        "\n",
        "\n",
        "\n",
        "\n"
      ],
      "execution_count": 0,
      "outputs": []
    },
    {
      "metadata": {
        "id": "s9TSwyTf1xUE",
        "colab_type": "code",
        "colab": {}
      },
      "cell_type": "code",
      "source": [
        "####################\n",
        "# Cost function\n",
        "####################\n",
        "\n",
        "class modelePYTHON2(OpenTURNSPythonFunction) :\n",
        "# that following method defines the input size (8) and the output size (1)\n",
        "\tdef __init__(self) :\n",
        "\t\tOpenTURNSPythonFunction.__init__(self,8,1)\n",
        "\n",
        "# that following method gives the implementation of modelePYTHON\n",
        "\tdef _exec(self,x) :\n",
        "\t\tQ=x[0]\n",
        "\t\tKs=x[1]\n",
        "\t\tZv=x[2]\n",
        "\t\tZm=x[3]\n",
        "\t\tHd=x[4]\n",
        "\t\tCb=x[5]\n",
        "\t\tL=x[6]\n",
        "\t\tB=x[7]\n",
        "\t\tS = flooding(x)[0];\n",
        "\t\tCp = 0.\n",
        "\t\tif S>0.:\n",
        "\t\t\tCp += 1.\n",
        "\t\telse:\n",
        "\t\t\tCp += 0.2 + 0.8*(1-math.exp(-1000/S**4))\n",
        "\t\tif Hd>8.:\n",
        "\t\t\tCp += Hd/20.\n",
        "\t\telse:\n",
        "\t\t\tCp += 8./20.\n",
        "\t\treturn [Cp]\n",
        "\n",
        "# Use that function defined in the script python\n",
        "# with the openturns library\n",
        "# Create a NumericalMathFunction from modelePYTHON\n",
        "cost = NumericalMathFunction(modelePYTHON2())\n"
      ],
      "execution_count": 0,
      "outputs": []
    },
    {
      "metadata": {
        "id": "tzZcfyw61xWs",
        "colab_type": "code",
        "colab": {}
      },
      "cell_type": "code",
      "source": [
        "#######################\n",
        "### Input random vector\n",
        "#######################\n",
        "\n",
        "#distributionQ = Gumbel(1013.,558.)\n",
        "distributionQ = Gumbel(1./558.,1013.)\n",
        "distributionKs = Normal(30.,8.)\n",
        "distributionZv = Triangular(49.,50.,51.)\n",
        "distributionZm = Triangular(54.,55.,56.)\n",
        "distributionHd = Uniform(7.,9.)\n",
        "distributionCb = Triangular(55.,55.5,56.)\n",
        "distributionL = Triangular(4990.,5000.,5010.)\n",
        "distributionB = Triangular(295.,300.,305.)\n",
        "\n",
        "pdfLoiQ = distributionQ.drawPDF()\n",
        "pdfLoiQ.draw(\"distributionQ_pdf\", 640, 480)\n",
        "\n",
        "\n",
        "collectionMarginals = [distributionQ,distributionKs,distributionZv,distributionZm,distributionHd,distributionCb,distributionL,distributionB]\n",
        "aCopula = IndependentCopula(len(collectionMarginals))\n",
        "aCopula.setName(\"Independent copula\")\n",
        "\n",
        "inputDistribution = ComposedDistribution(collectionMarginals, Copula(aCopula))\n",
        "inputDistribution.setDescription((\"Q\",\"Ks\",\"Zv\",\"Zm\",\"Hd\",\"Cb\",\"L\",\"B\"))\n",
        "\n",
        "inputRandomVector = RandomVector(inputDistribution)\n",
        "inputRandomVector.setDescription((\"Q\",\"Ks\",\"Zv\",\"Zm\",\"Hd\",\"Cb\",\"L\",\"B\"))\n",
        "\n",
        "outputS = RandomVector(flooding, inputRandomVector)\n",
        "outputCp = RandomVector(cost, inputRandomVector)"
      ],
      "execution_count": 0,
      "outputs": []
    },
    {
      "metadata": {
        "id": "94RSIk511xZP",
        "colab_type": "code",
        "colab": {}
      },
      "cell_type": "code",
      "source": [
        "###############################\n",
        "# a) Probabilite de flooding\n",
        "##############################\n",
        "\n",
        "RandomGenerator.SetSeed(random.randint(1,100))\n",
        "\n",
        "myEvent = Event(outputS, Greater(), -6.0)\n",
        "myEvent.setName(\"Flooding!\")\n",
        "\n",
        "print(\"################\")\n",
        "print(\"Monte Carlo\")\n",
        "print(\"################\")\n",
        "print(\"\")\n",
        "\n",
        "maximumOuterSampling = 100000\n",
        "blockSize = 1\n",
        "coefficientOfVariation = 0.1\n",
        "\n",
        "# Creation de l'algorithme Monte Carlo\n",
        "algoMC = MonteCarlo(myEvent)\n",
        "algoMC.setMaximumOuterSampling(maximumOuterSampling)\n",
        "algoMC.setBlockSize(blockSize)\n",
        "algoMC.setMaximumCoefficientOfVariation(coefficientOfVariation)\n",
        "\n",
        "algoMC.setConvergenceStrategy(Full())\n",
        "# For statistics about the algorithm\n",
        "initialNumberOfCall = flooding.getEvaluationCallsNumber()\n",
        "\n",
        "\n",
        "algoMC.run()\n",
        "\n",
        "result = algoMC.getResult()\n",
        "print(\"MC estimate of the probability of flooding : \", result.getProbabilityEstimate())\n",
        "print(\"Variance of the MC estimator : \", result.getVarianceEstimate())\n",
        "print('CV =', result.getCoefficientOfVariation())\n",
        "#print('MonteCarlo result=', result)\n",
        "print('Number of executed iterations =', result.getOuterSampling())\n",
        "print('Number of calls to the flooding function =', flooding.getEvaluationCallsNumber() - initialNumberOfCall)\n"
      ],
      "execution_count": 0,
      "outputs": []
    },
    {
      "metadata": {
        "id": "sbGQyftY1xbz",
        "colab_type": "code",
        "colab": {}
      },
      "cell_type": "code",
      "source": [
        "################################\n",
        "# b) Sobol Indices\n",
        "################################\n",
        "\n",
        "size = 10000\n",
        "\n",
        "###For the Flooding\n",
        "inputDesignS = ot.SobolIndicesAlgorithmImplementation.Generate(inputDistribution, size, True)\n",
        "outputDesignS = flooding(inputDesignS)\n",
        "sensitivityAnalysisS = ot.SaltelliSensitivityAlgorithm(inputDesignS, outputDesignS, size)\n",
        "\n",
        "#First order Sobol indices\n",
        "print(\"For the flooding:\")\n",
        "print(\"First Order Sobol Indices: \", sensitivityAnalysisS.getFirstOrderIndices())\n",
        "#Total order Sobol indices\n",
        "print(\"Total Order Sobol Indices: \", sensitivityAnalysisS.getTotalOrderIndices())\n",
        "\n",
        "#Graph file\n",
        "graph = sensitivityAnalysisS.draw()\n",
        "graph.draw(\"indices_sobol_S.png\")\n",
        "\n",
        "\n",
        "###For the cost\n",
        "size = 30000\n",
        "\n",
        "inputDesignCp = ot.SobolIndicesAlgorithmImplementation.Generate(inputDistribution, size, True)\n",
        "outputDesignCp = cost(inputDesignCp)\n",
        "sensitivityAnalysisCp = ot.SaltelliSensitivityAlgorithm(inputDesignCp, outputDesignCp, size)\n",
        "\n",
        "#First order Sobol indices\n",
        "print(\"For the cost:\")\n",
        "print(\"First Order Sobol Indices:\", sensitivityAnalysisCp.getFirstOrderIndices())\n",
        "#Total order Sobol indices\n",
        "print(\"Total Order Sobol Indices: \", sensitivityAnalysisCp.getTotalOrderIndices())\n",
        "\n",
        "#Graph file\n",
        "graph = sensitivityAnalysisCp.draw()\n",
        "graph.draw(\"indices_sobol_Cp.png\")"
      ],
      "execution_count": 0,
      "outputs": []
    },
    {
      "metadata": {
        "id": "LLF33hkQ1xSD",
        "colab_type": "code",
        "colab": {}
      },
      "cell_type": "code",
      "source": [
        "##########################\n",
        "# c) Metamodel\n",
        "##########################\n",
        "\n",
        "#A LatinHyperSquare should be used instead of random points.\n",
        "X = inputRandomVector.getSample(100)\n",
        "dim = X.getDimension()\n",
        "\n",
        "Y1 = flooding(X)\n",
        "Y2 = cost(X)\n",
        "\n",
        "#Just one of the possible covariance model\n",
        "covarianceModel = SquaredExponential(dim)\n",
        "\n",
        "basis = ConstantBasisFactory(dim).build()\n",
        "\n",
        "algoS = KrigingAlgorithm(X, Y1, covarianceModel, basis)\n",
        "algoCp = KrigingAlgorithm(X, Y2, covarianceModel, basis)\n",
        "\n",
        "algoS.run()\n",
        "algoCp.run()\n",
        "resultS = algoS.getResult()\n",
        "resultCp = algoCp.getResult()\n",
        "metamodelS = resultS.getMetaModel()\n",
        "metamodelCp = resultCp.getMetaModel()"
      ],
      "execution_count": 0,
      "outputs": []
    },
    {
      "metadata": {
        "id": "zwTHTo3P1xM2",
        "colab_type": "code",
        "colab": {}
      },
      "cell_type": "code",
      "source": [
        "Xtest = inputRandomVector.getSample(10)\n",
        "print(\"For Flooding with 10 random test points\")\n",
        "print(\"With metamodel:\")\n",
        "print(metamodelS(Xtest))\n",
        "print(\"True value: \")\n",
        "print(flooding(Xtest))"
      ],
      "execution_count": 0,
      "outputs": []
    },
    {
      "metadata": {
        "id": "uTeltf1v1xHl",
        "colab_type": "code",
        "colab": {}
      },
      "cell_type": "code",
      "source": [
        "Xtest = inputRandomVector.getSample(10)\n",
        "print(\"For Cost with 10 random test points\")\n",
        "print(\"With metamodel:\")\n",
        "print(metamodelCp(Xtest))\n",
        "print(\"True value: \")\n",
        "print(cost(Xtest))"
      ],
      "execution_count": 0,
      "outputs": []
    },
    {
      "metadata": {
        "id": "XtNOv3DQ1wzH",
        "colab_type": "code",
        "colab": {}
      },
      "cell_type": "code",
      "source": [
        ""
      ],
      "execution_count": 0,
      "outputs": []
    },
    {
      "metadata": {
        "id": "bDYNs3HN1w_X",
        "colab_type": "code",
        "colab": {}
      },
      "cell_type": "code",
      "source": [
        ""
      ],
      "execution_count": 0,
      "outputs": []
    },
    {
      "metadata": {
        "id": "hVl0oMcj1xCt",
        "colab_type": "code",
        "colab": {}
      },
      "cell_type": "code",
      "source": [
        ""
      ],
      "execution_count": 0,
      "outputs": []
    },
    {
      "metadata": {
        "id": "dG9mmqIi1xEp",
        "colab_type": "code",
        "colab": {}
      },
      "cell_type": "code",
      "source": [
        ""
      ],
      "execution_count": 0,
      "outputs": []
    },
    {
      "metadata": {
        "id": "inBkVlcv1xKV",
        "colab_type": "code",
        "colab": {}
      },
      "cell_type": "code",
      "source": [
        ""
      ],
      "execution_count": 0,
      "outputs": []
    },
    {
      "metadata": {
        "id": "H7SYKAZr1xPg",
        "colab_type": "code",
        "colab": {}
      },
      "cell_type": "code",
      "source": [
        ""
      ],
      "execution_count": 0,
      "outputs": []
    }
  ]
}